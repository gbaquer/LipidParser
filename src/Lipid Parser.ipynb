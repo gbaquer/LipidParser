{
 "cells": [
  {
   "cell_type": "code",
   "execution_count": 1,
   "id": "adfb0718-6c27-4c8d-bd73-bc48bf9aa0e0",
   "metadata": {},
   "outputs": [
    {
     "name": "stdout",
     "output_type": "stream",
     "text": [
      "You are all set!\n",
      "A:/59. Lipid Parsing/data_out.csv\n"
     ]
    }
   ],
   "source": [
    "#Lipid parser\n",
    "#08/11/2023\n",
    "#Gerard Baquer\n",
    "import re\n",
    "import pandas as pd\n",
    "import pygoslin\n",
    "from pygoslin.parser.Parser import LipidParser\n",
    "from tkinter.filedialog import askopenfilename\n",
    "\n",
    "#0. Load Data\n",
    "data_filename=''\n",
    "fa_filename='../data/fa.csv'\n",
    "if data_filename=='':\n",
    "    data_filename = askopenfilename(filetypes=[('.csv', '.csv')],title=\"Choose input data\")\n",
    "\n",
    "data=pd.read_csv(data_filename)\n",
    "fa=pd.read_csv(fa_filename)\n",
    "\n",
    "#1. Define parsers\n",
    "functionalgroup_re='(-\\w+\\(\\d+[ A-Za-z,\\d]*\\))|\\+=\\w\\(\\d+\\)'\n",
    "lipid_parser = LipidParser()\n",
    "def tryparse(x):\n",
    "    try:\n",
    "        x=re.sub(functionalgroup_re,'',x)\n",
    "        for i in range(fa.shape[0]):\n",
    "            x=re.sub(fa.name[i],fa.repname[i],x)\n",
    "        return(lipid_parser.parse(x))\n",
    "    except:\n",
    "        return\n",
    "        \n",
    "def format(lipid):\n",
    "    if(isinstance(lipid,pygoslin.domain.LipidAdduct.LipidAdduct)):\n",
    "        hg=lipid.lipid.headgroup.get_lipid_string()\n",
    "        c=sum(list(map(lambda x: x.num_carbon,lipid.lipid.fa_list)))\n",
    "        db=sum(list(map(lambda x: x.get_double_bonds(),lipid.lipid.fa_list)))\n",
    "        return(hg+\" \"+str(c)+\":\"+str(db))\n",
    "\n",
    "#2. Parse\n",
    "lipids=list(map(lambda x : tryparse(x), data.compound_name))\n",
    "data['newname']=list(map(format,lipids))\n",
    "data['functionalgroups']=list(map(lambda x: str(re.findall(functionalgroup_re,x)),data.compound_name))\n",
    "data['sidechains']=list(map(lambda x: str(re.findall(\"|\".join(fa.name),x)),data.compound_name))\n",
    "\n",
    "#3. Export\n",
    "out_filname=re.sub(\".csv\",\"_out.csv\",data_filename)\n",
    "data.to_csv(out_filname)\n",
    "print(\"You are all set!\")\n",
    "print(out_filname)"
   ]
  },
  {
   "cell_type": "code",
   "execution_count": null,
   "id": "64a4782b-c90a-4ca0-a11b-34aa1161e813",
   "metadata": {},
   "outputs": [],
   "source": []
  }
 ],
 "metadata": {
  "kernelspec": {
   "display_name": "venv",
   "language": "python",
   "name": "venv"
  },
  "language_info": {
   "codemirror_mode": {
    "name": "ipython",
    "version": 3
   },
   "file_extension": ".py",
   "mimetype": "text/x-python",
   "name": "python",
   "nbconvert_exporter": "python",
   "pygments_lexer": "ipython3",
   "version": "3.10.11"
  }
 },
 "nbformat": 4,
 "nbformat_minor": 5
}
